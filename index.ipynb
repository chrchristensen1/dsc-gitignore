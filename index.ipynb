{
 "cells": [
  {
   "cell_type": "markdown",
   "metadata": {},
   "source": [
    "# .gitignore"
   ]
  },
  {
   "cell_type": "markdown",
   "metadata": {},
   "source": [
    "## Introduction\n",
    "\n",
    "So far our examples have assumed that we want Git to track changes to all files in our repository. In some cases, we want Git to ignore certain files, and this is accomplished using a `.gitignore` file."
   ]
  },
  {
   "cell_type": "markdown",
   "metadata": {},
   "source": [
    "## Objectives\n",
    "\n",
    "You will be able to:\n",
    "\n",
    "* Describe use cases for a `.gitignore` file\n",
    "* Interpret and utilize the glob syntax of a `.gitignore`\n",
    "* Use Git and `.gitignore` to ignore files that Git is currently tracking, or to track files that Git is currently ignoring"
   ]
  },
  {
   "cell_type": "markdown",
   "metadata": {},
   "source": [
    "## Why `.gitignore`?\n",
    "\n",
    "If version control systems like Git are designed to track all of your changes, why would we want to tell it to ignore some files? There are three main reasons:\n",
    "\n",
    "1. Private files\n",
    "2. Irrelevant files\n",
    "3. Files that are too large for GitHub"
   ]
  },
  {
   "cell_type": "markdown",
   "metadata": {},
   "source": [
    "### Private Files\n",
    "\n",
    "<a title=\"© 2014 Andreas Kainz &amp; Uri Herrera &amp; Andrew Lake &amp; Marco Martin &amp; Harald Sitter &amp; Jonathan Riddell &amp; Ken Vermette &amp; Aleix Pol &amp; David Faure &amp; Albert Vaca &amp; Luca Beltrame &amp; Gleb Popov &amp; Nuno Pinheiro &amp; Alex Richardson &amp;  Jan Grulich &amp; Bernhard Landauer &amp; Heiko Becker &amp; Volker Krause &amp; David Rosca &amp; Phil Schaf / KDE\" href=\"https://commons.wikimedia.org/wiki/File:Breezeicons-actions-22-view-certificate.svg\"><img width=\"256\" alt=\"Breezeicons-actions-22-view-certificate\" src=\"https://upload.wikimedia.org/wikipedia/commons/thumb/e/e1/Breezeicons-actions-22-view-certificate.svg/256px-Breezeicons-actions-22-view-certificate.svg.png\"></a>\n",
    "\n",
    "In some cases, you will need credentials in order for your code to access some service. This includes free services! For example, if you are using a rate-limited API, the API needs to know who is making the request in order to determine whether you have exceeded your limit of requests.\n",
    "\n",
    "These credentials are often stored in the form of _keys_ or _secrets_, often stored in JSON or YML file formats.\n",
    "\n",
    "You want to avoid pushing these files to public GitHub repositories, because people have set up bots to crawl GitHub in order to steal these valuable credentials!\n",
    "\n",
    "Using `.gitignore` you can make sure that your credentials are not pushed."
   ]
  },
  {
   "cell_type": "markdown",
   "metadata": {},
   "source": [
    "### Irrelevant Files\n",
    "\n",
    "<a title=\"© 2014 Andreas Kainz &amp; Uri Herrera &amp; Andrew Lake &amp; Marco Martin &amp; Harald Sitter &amp; Jonathan Riddell &amp; Ken Vermette &amp; Aleix Pol &amp; David Faure &amp; Albert Vaca &amp; Luca Beltrame &amp; Gleb Popov &amp; Nuno Pinheiro &amp; Alex Richardson &amp;  Jan Grulich &amp; Bernhard Landauer &amp; Heiko Becker &amp; Volker Krause &amp; David Rosca &amp; Phil Schaf / KDE\" href=\"https://commons.wikimedia.org/wiki/File:Breezeicons-actions-22-noisereduction.svg\"><img width=\"256\" alt=\"Breezeicons-actions-22-noisereduction\" src=\"https://upload.wikimedia.org/wikipedia/commons/thumb/b/be/Breezeicons-actions-22-noisereduction.svg/256px-Breezeicons-actions-22-noisereduction.svg.png\"></a>\n",
    "\n",
    "Some of the files generated in the process of coding are not actually relevant for future users of the repository.\n",
    "\n",
    "These include:\n",
    "\n",
    "* Log files\n",
    "* Notebook checkpoint files (e.g. `.ipynb_checkpoints` from Jupyter Notebook)\n",
    "* OS-specific files (e.g. `.DS_Store`, which is only applicable to Mac computers)\n",
    "* Configuration files for code editors (e.g. `.vscode`, which is used by VS Code)\n",
    "\n",
    "If you are working with collaborators, not only are these files _not useful_ to them, they can actually cause _merge conflicts_!"
   ]
  },
  {
   "cell_type": "markdown",
   "metadata": {},
   "source": [
    "### Files That Are Too Large for GitHub\n",
    "\n",
    "<a title=\"© 2014 Andreas Kainz &amp; Uri Herrera &amp; Andrew Lake &amp; Marco Martin &amp; Harald Sitter &amp; Jonathan Riddell &amp; Ken Vermette &amp; Aleix Pol &amp; David Faure &amp; Albert Vaca &amp; Luca Beltrame &amp; Gleb Popov &amp; Nuno Pinheiro &amp; Alex Richardson &amp;  Jan Grulich &amp; Bernhard Landauer &amp; Heiko Becker &amp; Volker Krause &amp; David Rosca &amp; Phil Schaf / KDE\" href=\"https://commons.wikimedia.org/wiki/File:Breezeicons-actions-22-project-development-close.svg\"><img width=\"256\" alt=\"Breezeicons-actions-22-project-development-close\" src=\"https://upload.wikimedia.org/wikipedia/commons/thumb/8/8a/Breezeicons-actions-22-project-development-close.svg/256px-Breezeicons-actions-22-project-development-close.svg.png\"></a>\n",
    "\n",
    "GitHub [limits the size](https://docs.github.com/en/repositories/working-with-files/managing-large-files/about-large-files-on-github) of files that can be pushed to its repositories. If you try to push a file that exceeds the 100 MB threshold, you will get an error message and the push will fail.\n",
    "\n",
    "Often in a data science context, these large files are the data files themselves. Sometimes you will find that a compressed file (e.g. `.zip` file) is small enough to be pushed to GitHub, but the expanded version is too big. Then you can specify the expanded version in the `.gitignore` while still being able to share the compressed data on GitHub."
   ]
  },
  {
   "cell_type": "markdown",
   "metadata": {},
   "source": [
    "## `.gitignore` Syntax\n",
    "\n",
    "Now that we understand some reasons that we might want to ignore certain files, how does that actually work?\n",
    "\n",
    "To start with, you put a hidden text file called `.gitignore` at the root of the repository. It is hidden because it starts with `.`, which means that in order to view it you will need to type `ls -a` rather than just `ls` in the terminal. We demonstrate the `.gitignore` in this very repository below:"
   ]
  },
  {
   "cell_type": "code",
   "execution_count": 1,
   "metadata": {},
   "outputs": [
    {
     "name": "stdout",
     "output_type": "stream",
     "text": [
      "CONTRIBUTING.md LICENSE.md      README.md       index.ipynb\r\n"
     ]
    }
   ],
   "source": [
    "!ls"
   ]
  },
  {
   "cell_type": "code",
   "execution_count": 2,
   "metadata": {},
   "outputs": [
    {
     "name": "stdout",
     "output_type": "stream",
     "text": [
      "\u001b[34m.\u001b[m\u001b[m                  .gitignore         LICENSE.md\r\n",
      "\u001b[34m..\u001b[m\u001b[m                 \u001b[34m.ipynb_checkpoints\u001b[m\u001b[m README.md\r\n",
      "\u001b[34m.git\u001b[m\u001b[m               CONTRIBUTING.md    index.ipynb\r\n"
     ]
    }
   ],
   "source": [
    "!ls -a"
   ]
  },
  {
   "cell_type": "markdown",
   "metadata": {},
   "source": [
    "### Basic Syntax\n",
    "\n",
    "The file's content is just a list of things to ignore, as well as whitespace and comments (which start with `#`). The items in the list are separated by newlines.\n",
    "\n",
    "For example, this could be the contents of a valid `.gitignore` file:\n",
    "\n",
    "```\n",
    "# a comment\n",
    "secrets.json\n",
    "\n",
    "# another comment\n",
    "secrets.yml\n",
    "```\n",
    "\n",
    "This means that if the repository contained a file called `secrets.json` and/or a file called `secrets.yml`, Git would ignore them."
   ]
  },
  {
   "cell_type": "markdown",
   "metadata": {},
   "source": [
    "### Glob Syntax\n",
    "\n",
    "`.gitignore` can also work with wildcard characters using [glob syntax](https://en.wikipedia.org/wiki/Glob_(programming)). For example, if you wanted to ignore all files ending with `.csv`, the `.gitignore` might look like this:\n",
    "\n",
    "\n",
    "```\n",
    "# ignore all CSV files\n",
    "*.csv\n",
    "```\n",
    "\n",
    "Or, if you only wanted to ignore only CSV files in the `data/` folder, that might look like this:\n",
    "\n",
    "```\n",
    "# ignore CSV files in the data/ folder\n",
    "data/*.csv\n",
    "```\n",
    "\n",
    "For more examples with comments, see the [Git documentation](https://git-scm.com/docs/gitignore)."
   ]
  },
  {
   "cell_type": "markdown",
   "metadata": {},
   "source": [
    "### Useful Defaults\n",
    "\n",
    "The examples above were specific to a particular project, and you will typically need to write your own `.gitignore` lines for these specialized use cases.\n",
    "\n",
    "Outside of these narrow use cases, there are resources available for developing `.gitignore` files that are appropriate for your type of project in general. For example, GitHub maintains a [Python `.gitignore` template](https://github.com/github/gitignore/blob/main/Python.gitignore) (this can be added to your repository by selecting it from the drop-down when you initialize a repository on GitHub). There is also a tool called [gitignore.io](https://gitignore.io) that will help you identify useful `.gitignore` lines for your operating system or code editor. It's usually a good idea to use these resources first, before trying to write your own glob syntax!"
   ]
  },
  {
   "cell_type": "markdown",
   "metadata": {},
   "source": [
    "### Ignoring a Tracked File\n",
    "\n",
    "If you previously used `git add` on a file then ran `git commit`, that means that the file is already tracked, regardless of what the `.gitignore` says.\n",
    "\n",
    "#### Irrelevant Files\n",
    "\n",
    "If the file is just irrelevant for your collaborators, you can tell Git to stop tracking it. For example, if you wanted to tell Git to stop tracking `log.txt`, you could use this command:\n",
    "\n",
    "```bash\n",
    "git rm --cached log.txt\n",
    "```\n",
    "\n",
    "Note that this is a command you run in the terminal, _not_ a line to be added to the `.gitignore` file. For the changes to be reflected on GitHub, you will also need to run `git commit` and `git push`.\n",
    "\n",
    "> In general `git rm` is a useful command that deletes a file from the directory and stages that file deletion with Git (i.e. combines the `rm file_name` and `git add file_name` steps). Adding `--cached` to `git rm` means that Git will no longer track the file, but that the file will not actually be deleted from the directory.\n",
    "\n",
    "(You also probably want to add that file name to the `.gitignore` at the same time!)\n",
    "\n",
    "#### Private or Too Large Files\n",
    "\n",
    "If the file is private/secret or too large for GitHub, you will need to rewrite your Git history. This can be fairly complicated (see [this blog post](https://medium.com/analytics-vidhya/tutorial-removing-large-files-from-git-78dbf4cf83a?sk=c3763d466c7f2528008c3777192dfb95) for more details) so it's always better to add things to `.gitignore` sooner rather than later!"
   ]
  },
  {
   "cell_type": "markdown",
   "metadata": {},
   "source": [
    "### Telling Git Not to Ignore\n",
    "\n",
    "Many developer setups will include a [global `.gitignore` file](https://sebastiandedeyne.com/setting-up-a-global-gitignore-file/). This file is not located within a specific repository, and can be especially useful for OS-related settings (e.g. ignoring `.DS_Store` on a Mac).\n",
    "\n",
    "Sometimes you might want to override these global settings for the current repository, particularly if your global `.gitignore` is relatively broad. To do that, you use the same glob syntax, placing a `!` at the beginning.\n",
    "\n",
    "So, for example, if you want Git _not_ to ignore `log.txt` in a particular repository, you could add this to the `.gitignore`:\n",
    "\n",
    "```\n",
    "# do not ignore log.txt\n",
    "!log.txt\n",
    "```"
   ]
  },
  {
   "cell_type": "markdown",
   "metadata": {},
   "source": [
    "## Summary\n",
    "\n",
    "Sometimes you want Git to ignore certain files. The common reasons for this are that the files are private, the files are irrelevant to collaborators, or that the files are too big for GitHub. To tell Git to ignore the files, you use a hidden file called `.gitignore` at the root of the repository. This file uses glob syntax to specify which files should be ignored, including `*` to indicate a wildcard and `!` to indicate that a file should _not_ be ignored. We recommend that you use useful defaults rather than writing your own `.gitignore` lines most of the time, and that you always make sure to add private or too-large files to the `.gitignore` as soon as possible so you don't have to rewrite your Git history."
   ]
  }
 ],
 "metadata": {
  "kernelspec": {
   "display_name": "Python (learn-env)",
   "language": "python",
   "name": "learn-env"
  },
  "language_info": {
   "codemirror_mode": {
    "name": "ipython",
    "version": 3
   },
   "file_extension": ".py",
   "mimetype": "text/x-python",
   "name": "python",
   "nbconvert_exporter": "python",
   "pygments_lexer": "ipython3",
   "version": "3.8.5"
  }
 },
 "nbformat": 4,
 "nbformat_minor": 4
}
